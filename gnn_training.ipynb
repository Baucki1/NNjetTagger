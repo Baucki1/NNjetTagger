{
 "cells": [
  {
   "cell_type": "code",
   "execution_count": 1,
   "metadata": {},
   "outputs": [
    {
     "name": "stderr",
     "output_type": "stream",
     "text": [
      "2024-04-04 10:26:00.227236: I tensorflow/core/platform/cpu_feature_guard.cc:182] This TensorFlow binary is optimized to use available CPU instructions in performance-critical operations.\n",
      "To enable the following instructions: AVX2 AVX512F FMA, in other operations, rebuild TensorFlow with the appropriate compiler flags.\n",
      "/cvmfs/sft.cern.ch/lcg/views/LCG_105/x86_64-centos7-gcc11-opt/lib/python3.9/site-packages/torch_geometric/typing.py:18: UserWarning: An issue occurred while importing 'pyg-lib'. Disabling its usage. Stacktrace: /lib64/libm.so.6: version `GLIBC_2.27' not found (required by /afs/desy.de/user/b/bauckhag/.local/lib/python3.9/site-packages/libpyg.so)\n",
      "  warnings.warn(f\"An issue occurred while importing 'pyg-lib'. \"\n",
      "/cvmfs/sft.cern.ch/lcg/views/LCG_105/x86_64-centos7-gcc11-opt/lib/python3.9/site-packages/torch_geometric/typing.py:42: UserWarning: An issue occurred while importing 'torch-sparse'. Disabling its usage. Stacktrace: /lib64/libm.so.6: version `GLIBC_2.27' not found (required by /afs/desy.de/user/b/bauckhag/.local/lib/python3.9/site-packages/libpyg.so)\n",
      "  warnings.warn(f\"An issue occurred while importing 'torch-sparse'. \"\n"
     ]
    }
   ],
   "source": [
    "from libs.GNNjetTagger import GNNjetTagger"
   ]
  },
  {
   "cell_type": "code",
   "execution_count": 2,
   "metadata": {},
   "outputs": [],
   "source": [
    "from jetgraphs.transforms import BuildEdges\n",
    "from jetgraphs.transforms import GraphFilter\n",
    "from torch_geometric.transforms import Compose\n",
    "from jetgraphs.transforms import NumLayers, LayersNum\n",
    "\n",
    "\n",
    "edge_builder = BuildEdges(\n",
    "    directed=False, \n",
    "    self_loop_weight=0,\n",
    "    same_layer_threshold=0.6, \n",
    "    consecutive_layer_threshold=0.6,\n",
    "    distance_p=2)\n",
    "\n",
    "graph_filter = GraphFilter(min_num_nodes=2) # only graphs with at least 3 nodes will be accepted\n",
    "\n",
    "optional_transforms = Compose([NumLayers(), LayersNum()])"
   ]
  },
  {
   "cell_type": "code",
   "execution_count": 3,
   "metadata": {},
   "outputs": [
    {
     "name": "stdout",
     "output_type": "stream",
     "text": [
      "Loaded dataset containing subset of 10%\n"
     ]
    }
   ],
   "source": [
    "from jetgraphs.JetGraphDataset import JetGraphDatasetInMemory_v2\n",
    "\n",
    "#datasets_root = \"content/jetgraphdataset\"\n",
    "datasets_root = \"../data/GNN\"\n",
    "raw_data_url = \"https://cernbox.cern.ch/s/PYurUUzcNdXEGpz/download\"\n",
    "\n",
    "jet_graph_dataset = JetGraphDatasetInMemory_v2(\n",
    "    root = datasets_root,           # directory where to download data \n",
    "    url = raw_data_url,             # url to raw data\n",
    "    subset = '10%',                # which subset of the intial 100k graph to consider, default is 100%\n",
    "    pre_filter = graph_filter,      \n",
    "    pre_transform = edge_builder,   # edge_builder should be passed as pre_transform to keep data on disk.\n",
    "    post_filter = graph_filter,\n",
    "    transform = optional_transforms,\n",
    "    verbose=True\n",
    "    )"
   ]
  },
  {
   "cell_type": "code",
   "execution_count": 4,
   "metadata": {},
   "outputs": [
    {
     "name": "stderr",
     "output_type": "stream",
     "text": [
      "/cvmfs/sft.cern.ch/lcg/views/LCG_105/x86_64-centos7-gcc11-opt/lib/python3.9/site-packages/torch/utils/data/dataloader.py:557: UserWarning: This DataLoader will create 96 worker processes in total. Our suggested max number of worker in current system is 20, which is smaller than what this DataLoader is going to create. Please be aware that excessive worker creation might get DataLoader running slow or even freeze, lower the worker number to avoid potential slowness/freeze if necessary.\n",
      "  warnings.warn(_create_warning_msg(\n"
     ]
    },
    {
     "name": "stdout",
     "output_type": "stream",
     "text": [
      "\n",
      "*** JetGraph Dataset ***\n",
      "\n",
      "Number of classes: 2\n",
      "Number of graphs: 19931\n",
      "Dataset is directed: False\n",
      "Number of node features: 4\n",
      "Number of edge features: 1\n",
      "Number of positive samples:9941.00\n",
      "\n",
      "*** JetGraph Dataset ***\n",
      "\n",
      "Number of classes: 2\n",
      "Number of graphs: 15944\n",
      "Dataset is directed: False\n",
      "Number of node features: 4\n",
      "Number of edge features: 1\n",
      "Number of positive samples:7952.00\n"
     ]
    }
   ],
   "source": [
    "from torch_geometric.loader import DataLoader\n",
    "from sklearn.model_selection import train_test_split\n",
    "\n",
    "train_val_idx, test_idx = train_test_split(range(len(jet_graph_dataset)), stratify=[m.y[0].item() for m in jet_graph_dataset], test_size=0.2, random_state=77)\n",
    "train_val_dataset = jet_graph_dataset[train_val_idx]\n",
    "\n",
    "train_idx, val_idx = train_test_split(range(len(train_val_dataset)), stratify=[m.y[0].item() for m in train_val_dataset], test_size=0.4, random_state=77)\n",
    "train_loader = DataLoader(jet_graph_dataset[train_idx], batch_size=512, num_workers= 96, shuffle=True)\n",
    "val_loader = DataLoader(jet_graph_dataset[val_idx], batch_size=512, num_workers= 96)\n",
    "\n",
    "\n",
    "train_dataset = train_val_dataset[train_idx]\n",
    "val_dataset = train_val_dataset[val_idx]\n",
    "test_dataset = jet_graph_dataset[test_idx]\n",
    "\n",
    "jet_graph_dataset.stats()\n",
    "train_val_dataset.stats()"
   ]
  },
  {
   "cell_type": "code",
   "execution_count": 5,
   "metadata": {},
   "outputs": [
    {
     "name": "stderr",
     "output_type": "stream",
     "text": [
      "/cvmfs/sft.cern.ch/lcg/views/LCG_105/x86_64-centos7-gcc11-opt/lib/python3.9/site-packages/pytorch_lightning/utilities/parsing.py:198: Attribute 'loss_func' is an instance of `nn.Module` and is already saved during checkpointing. It is recommended to ignore them using `self.save_hyperparameters(ignore=['loss_func'])`.\n"
     ]
    }
   ],
   "source": [
    "model = GNNjetTagger(model_name=\"GNNjetTagger_0\")\n",
    "model.create_model(hidden_channels=256, node_features_size=jet_graph_dataset[0].x.shape[1])"
   ]
  },
  {
   "cell_type": "code",
   "execution_count": 6,
   "metadata": {},
   "outputs": [
    {
     "name": "stderr",
     "output_type": "stream",
     "text": [
      "GPU available: False, used: False\n",
      "TPU available: False, using: 0 TPU cores\n",
      "IPU available: False, using: 0 IPUs\n",
      "HPU available: False, using: 0 HPUs\n",
      "\n",
      "  | Name  | Type              | Params\n",
      "--------------------------------------------\n",
      "0 | loss  | BCEWithLogitsLoss | 0     \n",
      "1 | norm  | BatchNorm         | 8     \n",
      "2 | conv1 | ARMAConv          | 203 K \n",
      "3 | conv2 | ARMAConv          | 590 K \n",
      "4 | conv3 | ARMAConv          | 590 K \n",
      "5 | lin0  | Linear            | 65.8 K\n",
      "6 | lin   | Linear            | 257   \n",
      "--------------------------------------------\n",
      "1.5 M     Trainable params\n",
      "0         Non-trainable params\n",
      "1.5 M     Total params\n",
      "5.803     Total estimated model params size (MB)\n"
     ]
    },
    {
     "data": {
      "application/vnd.jupyter.widget-view+json": {
       "model_id": "e23a3e975a3b452a9bee1b5546f63658",
       "version_major": 2,
       "version_minor": 0
      },
      "text/plain": [
       "Sanity Checking: |                                                          | 0/? [00:00<?, ?it/s]"
      ]
     },
     "metadata": {},
     "output_type": "display_data"
    },
    {
     "data": {
      "application/vnd.jupyter.widget-view+json": {
       "model_id": "aa81f241ccde4200a1514a37e6ddf576",
       "version_major": 2,
       "version_minor": 0
      },
      "text/plain": [
       "Training: |                                                                 | 0/? [00:00<?, ?it/s]"
      ]
     },
     "metadata": {},
     "output_type": "display_data"
    },
    {
     "data": {
      "application/vnd.jupyter.widget-view+json": {
       "model_id": "4e66d09265e642069d73871cb617e8a7",
       "version_major": 2,
       "version_minor": 0
      },
      "text/plain": [
       "Validation: |                                                               | 0/? [00:00<?, ?it/s]"
      ]
     },
     "metadata": {},
     "output_type": "display_data"
    },
    {
     "name": "stderr",
     "output_type": "stream",
     "text": [
      "Metric val_loss improved. New best score: 0.539\n"
     ]
    },
    {
     "data": {
      "application/vnd.jupyter.widget-view+json": {
       "model_id": "a6e322bb109840a38a250c60f97a2edf",
       "version_major": 2,
       "version_minor": 0
      },
      "text/plain": [
       "Validation: |                                                               | 0/? [00:00<?, ?it/s]"
      ]
     },
     "metadata": {},
     "output_type": "display_data"
    },
    {
     "name": "stderr",
     "output_type": "stream",
     "text": [
      "Metric val_loss improved by 0.044 >= min_delta = 0.0. New best score: 0.495\n"
     ]
    },
    {
     "data": {
      "application/vnd.jupyter.widget-view+json": {
       "model_id": "4c011e963c7a4c7e9f759920a426a56e",
       "version_major": 2,
       "version_minor": 0
      },
      "text/plain": [
       "Validation: |                                                               | 0/? [00:00<?, ?it/s]"
      ]
     },
     "metadata": {},
     "output_type": "display_data"
    },
    {
     "name": "stderr",
     "output_type": "stream",
     "text": [
      "Metric val_loss improved by 0.061 >= min_delta = 0.0. New best score: 0.434\n"
     ]
    },
    {
     "data": {
      "application/vnd.jupyter.widget-view+json": {
       "model_id": "df1c482f6d9440fea9306a35a2f0d0f7",
       "version_major": 2,
       "version_minor": 0
      },
      "text/plain": [
       "Validation: |                                                               | 0/? [00:00<?, ?it/s]"
      ]
     },
     "metadata": {},
     "output_type": "display_data"
    },
    {
     "name": "stderr",
     "output_type": "stream",
     "text": [
      "Metric val_loss improved by 0.050 >= min_delta = 0.0. New best score: 0.384\n"
     ]
    },
    {
     "data": {
      "application/vnd.jupyter.widget-view+json": {
       "model_id": "cf903b0d2ff8498daf5b832400389f2b",
       "version_major": 2,
       "version_minor": 0
      },
      "text/plain": [
       "Validation: |                                                               | 0/? [00:00<?, ?it/s]"
      ]
     },
     "metadata": {},
     "output_type": "display_data"
    },
    {
     "name": "stderr",
     "output_type": "stream",
     "text": [
      "Metric val_loss improved by 0.012 >= min_delta = 0.0. New best score: 0.373\n"
     ]
    },
    {
     "data": {
      "application/vnd.jupyter.widget-view+json": {
       "model_id": "81113d884c5d46f68a7766a39f5ffd92",
       "version_major": 2,
       "version_minor": 0
      },
      "text/plain": [
       "Validation: |                                                               | 0/? [00:00<?, ?it/s]"
      ]
     },
     "metadata": {},
     "output_type": "display_data"
    },
    {
     "name": "stderr",
     "output_type": "stream",
     "text": [
      "Metric val_loss improved by 0.020 >= min_delta = 0.0. New best score: 0.353\n"
     ]
    },
    {
     "data": {
      "application/vnd.jupyter.widget-view+json": {
       "model_id": "5f68b2bab9064c929c28487d7aa8f6ca",
       "version_major": 2,
       "version_minor": 0
      },
      "text/plain": [
       "Validation: |                                                               | 0/? [00:00<?, ?it/s]"
      ]
     },
     "metadata": {},
     "output_type": "display_data"
    },
    {
     "name": "stderr",
     "output_type": "stream",
     "text": [
      "Metric val_loss improved by 0.003 >= min_delta = 0.0. New best score: 0.350\n"
     ]
    },
    {
     "data": {
      "application/vnd.jupyter.widget-view+json": {
       "model_id": "473806192add45a8a79fb0caa9904bf3",
       "version_major": 2,
       "version_minor": 0
      },
      "text/plain": [
       "Validation: |                                                               | 0/? [00:00<?, ?it/s]"
      ]
     },
     "metadata": {},
     "output_type": "display_data"
    },
    {
     "name": "stderr",
     "output_type": "stream",
     "text": [
      "Metric val_loss improved by 0.007 >= min_delta = 0.0. New best score: 0.343\n"
     ]
    },
    {
     "data": {
      "application/vnd.jupyter.widget-view+json": {
       "model_id": "3bfe4219b3a14f7788b8c6b2af3f4e06",
       "version_major": 2,
       "version_minor": 0
      },
      "text/plain": [
       "Validation: |                                                               | 0/? [00:00<?, ?it/s]"
      ]
     },
     "metadata": {},
     "output_type": "display_data"
    },
    {
     "data": {
      "application/vnd.jupyter.widget-view+json": {
       "model_id": "f8652daece0744ed854c295a0365641a",
       "version_major": 2,
       "version_minor": 0
      },
      "text/plain": [
       "Validation: |                                                               | 0/? [00:00<?, ?it/s]"
      ]
     },
     "metadata": {},
     "output_type": "display_data"
    },
    {
     "name": "stderr",
     "output_type": "stream",
     "text": [
      "Metric val_loss improved by 0.008 >= min_delta = 0.0. New best score: 0.335\n",
      "`Trainer.fit` stopped: `max_epochs=10` reached.\n"
     ]
    }
   ],
   "source": [
    "model.train_model(train_loader, val_loader)"
   ]
  },
  {
   "cell_type": "code",
   "execution_count": null,
   "metadata": {},
   "outputs": [],
   "source": [
    "import numpy as np\n",
    "import sklearn.metrics\n",
    "import matplotlib\n",
    "import matplotlib.pyplot as plt\n",
    "from matplotlib.ticker import MaxNLocator\n",
    "from mpl_toolkits.mplot3d import Axes3D\n",
    "import warnings\n",
    "import jetgraphs\n",
    "from jetgraphs.utils import plot_jet_graph, plot_metrics\n",
    "from jetgraphs.models import Arma\n",
    "from torch_geometric.loader import DataLoader\n",
    "\n",
    "\n",
    "\n",
    "# Predict.\n",
    "with warnings.catch_warnings():\n",
    "    warnings.simplefilter(\"ignore\")\n",
    "    pretrained_filename = f'./checkpoints/gcn-epoch=19.ckpt'\n",
    "    model = Arma.load_from_checkpoint(pretrained_filename)\n",
    "    full_loader = DataLoader(jet_graph_dataset, batch_size=512, num_workers=96)\n",
    "\n",
    "    weights = trainer.predict(model, full_loader)\n",
    "    truths = []\n",
    "\n",
    "for data in jet_graph_dataset:\n",
    "    truths.append((data['y'].unsqueeze(1).float()).tolist())\n",
    "\n",
    "weights = np.array(sum(weights, []))\n",
    "truths = np.array(sum(truths, []))\n",
    "\n"
   ]
  },
  {
   "cell_type": "code",
   "execution_count": 7,
   "metadata": {},
   "outputs": [],
   "source": [
    "# 1. GNNgraphMaker (similar to CNNimageMaker)\n",
    "# 2. dataset converter (similar to CNNdatasetConverter)\n",
    "# 3. graph conversion while loading data from root files\n",
    "# 4. measure_performance into superclass (incl. plots from GNN notebook)"
   ]
  }
 ],
 "metadata": {
  "kernelspec": {
   "display_name": "Python 3 (ipykernel)",
   "language": "python",
   "name": "python3"
  },
  "language_info": {
   "codemirror_mode": {
    "name": "ipython",
    "version": 3
   },
   "file_extension": ".py",
   "mimetype": "text/x-python",
   "name": "python",
   "nbconvert_exporter": "python",
   "pygments_lexer": "ipython3",
   "version": "3.9.12"
  }
 },
 "nbformat": 4,
 "nbformat_minor": 2
}
