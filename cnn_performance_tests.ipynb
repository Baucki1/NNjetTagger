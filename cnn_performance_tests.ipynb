{
 "cells": [
  {
   "cell_type": "code",
   "execution_count": 1,
   "metadata": {},
   "outputs": [
    {
     "name": "stdout",
     "output_type": "stream",
     "text": [
      "/nfs/dust/atlas/user/bauckhag/code/DESY-ATLAS-BSM/nn_studies/source\n",
      "Welcome to JupyROOT 6.30/02\n"
     ]
    },
    {
     "name": "stderr",
     "output_type": "stream",
     "text": [
      "2024-04-03 13:38:24.787784: I tensorflow/core/platform/cpu_feature_guard.cc:182] This TensorFlow binary is optimized to use available CPU instructions in performance-critical operations.\n",
      "To enable the following instructions: AVX2 AVX512F FMA, in other operations, rebuild TensorFlow with the appropriate compiler flags.\n"
     ]
    }
   ],
   "source": [
    "%cd /nfs/dust/atlas/user/bauckhag/code/DESY-ATLAS-BSM/nn_studies/source\n",
    "\n",
    "import sys\n",
    "import os\n",
    "\n",
    "sys.path.append(\"libs\")\n",
    "\n",
    "import ROOT\n",
    "\n",
    "from libs.CNNjetTagger import CNN_jet_tagger\n",
    "\n",
    "\n",
    "data_dir = \"/nfs/dust/atlas/user/bauckhag/code/DESY-ATLAS-BSM/nn_studies/data/\""
   ]
  },
  {
   "cell_type": "code",
   "execution_count": 2,
   "metadata": {},
   "outputs": [
    {
     "name": "stdout",
     "output_type": "stream",
     "text": [
      "Model: \"model\"\n",
      "_________________________________________________________________\n",
      " Layer (type)                Output Shape              Param #   \n",
      "=================================================================\n",
      " input_layer (InputLayer)    [(None, 30, 30, 12, 1)]   0         \n",
      "                                                                 \n",
      " conv3d_0 (Conv3D)           (None, 30, 30, 12, 30)    840       \n",
      "                                                                 \n",
      " conv3d_1 (Conv3D)           (None, 15, 15, 6, 30)     24330     \n",
      "                                                                 \n",
      " batch_norm_0 (BatchNormali  (None, 15, 15, 6, 30)     120       \n",
      " zation)                                                         \n",
      "                                                                 \n",
      " max_pool_0 (MaxPooling3D)   (None, 7, 7, 6, 30)       0         \n",
      "                                                                 \n",
      " conv3d_2 (Conv3D)           (None, 4, 4, 6, 30)       24330     \n",
      "                                                                 \n",
      " batch_norm_1 (BatchNormali  (None, 4, 4, 6, 30)       120       \n",
      " zation)                                                         \n",
      "                                                                 \n",
      " max_pool_1 (MaxPooling3D)   (None, 1, 1, 6, 30)       0         \n",
      "                                                                 \n",
      " flatten (Flatten)           (None, 180)               0         \n",
      "                                                                 \n",
      " batch_norm_2 (BatchNormali  (None, 180)               720       \n",
      " zation)                                                         \n",
      "                                                                 \n",
      " dense_0 (Dense)             (None, 100)               18100     \n",
      "                                                                 \n",
      " dense_1 (Dense)             (None, 1)                 101       \n",
      "                                                                 \n",
      "=================================================================\n",
      "Total params: 68661 (268.21 KB)\n",
      "Trainable params: 68181 (266.33 KB)\n",
      "Non-trainable params: 480 (1.88 KB)\n",
      "_________________________________________________________________\n"
     ]
    }
   ],
   "source": [
    "model = CNN_jet_tagger(input_type=False)\n",
    "model.load_model(\"models/model_0\")"
   ]
  },
  {
   "cell_type": "code",
   "execution_count": 3,
   "metadata": {},
   "outputs": [
    {
     "name": "stdout",
     "output_type": "stream",
     "text": [
      "154943 7877808\n",
      "154943 150000\n"
     ]
    }
   ],
   "source": [
    "def get_tchains(file_names_sig, file_names_bg, start_entries=[0,0], n_entries=[-1,-1], tree_name=\"T\"):\n",
    "    tchain_bg = ROOT.TChain(tree_name)\n",
    "    for file_name in file_names_bg:\n",
    "        tchain_bg.Add(file_name)\n",
    "    \n",
    "    tchain_sig = ROOT.TChain(tree_name)\n",
    "    for file_name in file_names_sig:\n",
    "        tchain_sig.Add(file_name)\n",
    "    \n",
    "    tchains_orig = [tchain_sig, tchain_bg]\n",
    "    tchains = tchains_orig\n",
    "    \n",
    "    print(tchains[0].GetEntries(), tchains[1].GetEntries())\n",
    "    \n",
    "    if n_entries[0] != -1:\n",
    "        #subchain_sig = tchain_sig.CopyTree(\"\", nentries=n_entries[0], firstentry=start_entries[0])\n",
    "        subchain_sig = tchain_sig.CloneTree(0)\n",
    "        subchain_sig.CopyEntries(tchain_sig, nentries=n_entries[0])\n",
    "        tchains[0] = subchain_sig\n",
    "    if n_entries[1] != -1:\n",
    "        #subchain_bg = tchain_bg.CopyTree(\"\", nentries=n_entries[1], firstentry=start_entries[1])\n",
    "        subchain_bg = tchain_bg.CloneTree(0)\n",
    "        subchain_bg.CopyEntries(tchain_bg, nentries=n_entries[1])\n",
    "        tchains[1] = subchain_bg\n",
    "    \n",
    "    print(tchains[0].GetEntries(), tchains[1].GetEntries())\n",
    "    return tchains\n",
    "\n",
    "tchains = get_tchains([data_dir+\"flat/signal.root\"], [data_dir+\"flat/background2.root\", data_dir+\"flat/background3.root\"], n_entries=[-1, 150000])"
   ]
  },
  {
   "cell_type": "code",
   "execution_count": 4,
   "metadata": {},
   "outputs": [
    {
     "name": "stdout",
     "output_type": "stream",
     "text": [
      "Data splitting updated!:\n",
      "\tsplit_ratio = [0.6, 0.2, 0.2] \tbatch_size = 5000 \th5_blocksize = 200000\n",
      "\ttrain: signal = 92965 \tbackground = 90000 \tbatch_size_signal = 2540 \tbatch_size_background = 2460 \tn_batches = 36\n",
      "\tval: signal = 30988 \tbackground = 30000 \tbatch_size_signal = 2540 \tbatch_size_background = 2460 \tn_batches = 12\n",
      "\ttest: signal = 30990 \tbackground = 30000 \tbatch_size_signal = 2540 \tbatch_size_background = 2460 \tn_batches = 12\n",
      "\ttotal: signal = 154943 \tbackground = 150000 \n",
      "\n"
     ]
    },
    {
     "name": "stdout",
     "output_type": "stream",
     "text": [
      "Traceback (most recent call last):\n",
      "  File \"/cvmfs/sft.cern.ch/lcg/views/LCG_105/x86_64-centos7-gcc11-opt/lib/python3.9/site-packages/IPython/core/interactiveshell.py\", line 3441, in run_code\n",
      "    exec(code_obj, self.user_global_ns, self.user_ns)\n",
      "  File \"/tmp/ipykernel_22409/3851170428.py\", line 6, in <module>\n",
      "    model.measure_performance(tchains, 5000, split_ratio=[0.6,0.2,0.2], plot_performance_evt_quantities=branches, log_scale=log_scale, scale=scale, names=names, plot_test_history=False, plot_train_val_history=True)\n",
      "  File \"/nfs/dust/atlas/user/bauckhag/code/DESY-ATLAS-BSM/nn_studies/source/libs/CNNjetTagger.py\", line 773, in measure_performance\n",
      "    predictions = self.model.predict(batched_test_data, batch_size=batch_size, steps=self.data_splitting.n_batches_test)\n",
      "  File \"/cvmfs/sft.cern.ch/lcg/views/LCG_105/x86_64-centos7-gcc11-opt/lib/python3.9/site-packages/keras/src/utils/traceback_utils.py\", line 65, in error_handler\n",
      "    return fn(*args, **kwargs)\n",
      "  File \"/cvmfs/sft.cern.ch/lcg/views/LCG_105/x86_64-centos7-gcc11-opt/lib/python3.9/site-packages/keras/src/engine/training.py\", line 2554, in predict\n",
      "    tmp_batch_outputs = self.predict_function(iterator)\n",
      "  File \"/cvmfs/sft.cern.ch/lcg/views/LCG_105/x86_64-centos7-gcc11-opt/lib/python3.9/site-packages/tensorflow/python/util/traceback_utils.py\", line 150, in error_handler\n",
      "    return fn(*args, **kwargs)\n",
      "  File \"/cvmfs/sft.cern.ch/lcg/views/LCG_105/x86_64-centos7-gcc11-opt/lib/python3.9/site-packages/tensorflow/python/eager/polymorphic_function/polymorphic_function.py\", line 825, in __call__\n",
      "    result = self._call(*args, **kwds)\n",
      "  File \"/cvmfs/sft.cern.ch/lcg/views/LCG_105/x86_64-centos7-gcc11-opt/lib/python3.9/site-packages/tensorflow/python/eager/polymorphic_function/polymorphic_function.py\", line 897, in _call\n",
      "    return self._concrete_variable_creation_fn._call_flat(   # pylint: disable=protected-access\n",
      "  File \"/cvmfs/sft.cern.ch/lcg/views/LCG_105/x86_64-centos7-gcc11-opt/lib/python3.9/site-packages/tensorflow/python/eager/polymorphic_function/monomorphic_function.py\", line 1349, in _call_flat\n",
      "    return self._build_call_outputs(self._inference_function(*args))\n",
      "  File \"/cvmfs/sft.cern.ch/lcg/views/LCG_105/x86_64-centos7-gcc11-opt/lib/python3.9/site-packages/tensorflow/python/eager/polymorphic_function/atomic_function.py\", line 196, in __call__\n",
      "    outputs = self._bound_context.call_function(\n",
      "  File \"/cvmfs/sft.cern.ch/lcg/views/LCG_105/x86_64-centos7-gcc11-opt/lib/python3.9/site-packages/tensorflow/python/eager/context.py\", line 1457, in call_function\n",
      "    outputs = execute.execute(\n",
      "  File \"/cvmfs/sft.cern.ch/lcg/views/LCG_105/x86_64-centos7-gcc11-opt/lib/python3.9/site-packages/tensorflow/python/eager/execute.py\", line 53, in quick_execute\n",
      "    tensors = pywrap_tfe.TFE_Py_Execute(ctx._handle, device_name, op_name,\n",
      "KeyboardInterrupt\n",
      "\n",
      "During handling of the above exception, another exception occurred:\n",
      "\n",
      "Traceback (most recent call last):\n",
      "  File \"/cvmfs/sft.cern.ch/lcg/views/LCG_105/x86_64-centos7-gcc11-opt/lib/python3.9/site-packages/IPython/core/interactiveshell.py\", line 2061, in showtraceback\n",
      "    stb = value._render_traceback_()\n",
      "AttributeError: 'KeyboardInterrupt' object has no attribute '_render_traceback_'\n",
      "\n",
      "During handling of the above exception, another exception occurred:\n",
      "\n",
      "Traceback (most recent call last):\n",
      "  File \"/cvmfs/sft.cern.ch/lcg/views/LCG_105/x86_64-centos7-gcc11-opt/lib/python3.9/site-packages/IPython/core/ultratb.py\", line 1101, in get_records\n",
      "    return _fixed_getinnerframes(etb, number_of_lines_of_context, tb_offset)\n",
      "  File \"/cvmfs/sft.cern.ch/lcg/views/LCG_105/x86_64-centos7-gcc11-opt/lib/python3.9/site-packages/IPython/core/ultratb.py\", line 248, in wrapped\n",
      "    return f(*args, **kwargs)\n",
      "  File \"/cvmfs/sft.cern.ch/lcg/views/LCG_105/x86_64-centos7-gcc11-opt/lib/python3.9/site-packages/IPython/core/ultratb.py\", line 281, in _fixed_getinnerframes\n",
      "    records = fix_frame_records_filenames(inspect.getinnerframes(etb, context))\n",
      "  File \"/cvmfs/sft.cern.ch/lcg/releases/Python/3.9.12-9a1bc/x86_64-centos7-gcc11-opt/lib/python3.9/inspect.py\", line 1543, in getinnerframes\n",
      "    frameinfo = (tb.tb_frame,) + getframeinfo(tb, context)\n",
      "  File \"/cvmfs/sft.cern.ch/lcg/releases/Python/3.9.12-9a1bc/x86_64-centos7-gcc11-opt/lib/python3.9/inspect.py\", line 1501, in getframeinfo\n",
      "    filename = getsourcefile(frame) or getfile(frame)\n",
      "  File \"/cvmfs/sft.cern.ch/lcg/releases/Python/3.9.12-9a1bc/x86_64-centos7-gcc11-opt/lib/python3.9/inspect.py\", line 709, in getsourcefile\n",
      "    if getattr(getmodule(object, filename), '__loader__', None) is not None:\n",
      "  File \"/cvmfs/sft.cern.ch/lcg/releases/Python/3.9.12-9a1bc/x86_64-centos7-gcc11-opt/lib/python3.9/inspect.py\", line 755, in getmodule\n",
      "    os.path.realpath(f)] = module.__name__\n",
      "  File \"/cvmfs/sft.cern.ch/lcg/releases/Python/3.9.12-9a1bc/x86_64-centos7-gcc11-opt/lib/python3.9/posixpath.py\", line 392, in realpath\n",
      "    path, ok = _joinrealpath(filename[:0], filename, {})\n",
      "  File \"/cvmfs/sft.cern.ch/lcg/releases/Python/3.9.12-9a1bc/x86_64-centos7-gcc11-opt/lib/python3.9/posixpath.py\", line 440, in _joinrealpath\n",
      "    path, ok = _joinrealpath(path, os.readlink(newpath), seen)\n",
      "KeyboardInterrupt\n"
     ]
    }
   ],
   "source": [
    "#model.test_loading(tchains, 5000)\n",
    "branches = [\"GNNjet_pt\", \"GNNjet_eta\", \"GNNjet_EMfrac\", \"GNNjet_m\"]\n",
    "log_scale = [True, False, False, True]\n",
    "scale = [0.001, 1, 1, 0.001]\n",
    "names = [\"pT [GeV]\", \"eta\", \"EMfrac\", \"m [GeV]\"]\n",
    "model.measure_performance(tchains, 5000, split_ratio=[0.6,0.2,0.2], plot_performance_evt_quantities=branches, log_scale=log_scale, scale=scale, names=names, plot_test_history=False, plot_train_val_history=True)"
   ]
  },
  {
   "cell_type": "code",
   "execution_count": null,
   "metadata": {},
   "outputs": [],
   "source": [
    "# asymmetric distributions\n",
    "# EMfrac stops at 0.4 (+ cut EMfrac>0)\n",
    "# \n",
    "# image preprocessing, flattening/weighting in pt, eta, ...\n",
    "# plots for GNN\n",
    "# slides status report"
   ]
  }
 ],
 "metadata": {
  "kernelspec": {
   "display_name": "Python 3 (ipykernel)",
   "language": "python",
   "name": "python3"
  },
  "language_info": {
   "codemirror_mode": {
    "name": "ipython",
    "version": 3
   },
   "file_extension": ".py",
   "mimetype": "text/x-python",
   "name": "python",
   "nbconvert_exporter": "python",
   "pygments_lexer": "ipython3",
   "version": "3.9.12"
  }
 },
 "nbformat": 4,
 "nbformat_minor": 2
}
