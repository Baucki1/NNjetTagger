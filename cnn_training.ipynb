{
 "cells": [
  {
   "cell_type": "code",
   "execution_count": null,
   "metadata": {},
   "outputs": [],
   "source": [
    "%cd /nfs/dust/atlas/user/bauckhag/code/DESY-ATLAS-BSM/nn_studies/source\n",
    "\n",
    "import sys\n",
    "import os\n",
    "\n",
    "sys.path.append(\"libs\")\n",
    "\n",
    "import ROOT\n",
    "\n",
    "from libs.CNNjetTagger import CNN_jet_tagger\n",
    "\n",
    "\n",
    "data_dir = \"/nfs/dust/atlas/user/bauckhag/code/DESY-ATLAS-BSM/nn_studies/data/\""
   ]
  },
  {
   "cell_type": "code",
   "execution_count": null,
   "metadata": {},
   "outputs": [],
   "source": [
    "model = CNN_jet_tagger(input_type=True)\n",
    "model.create_model([15,15,12,1])"
   ]
  },
  {
   "cell_type": "code",
   "execution_count": null,
   "metadata": {},
   "outputs": [],
   "source": [
    "#train model with hdf5\n",
    "\n",
    "history = model.train_model(data=data_dir+\"img_15x15_small/\", n_epochs=10, batch_size=5000)\n",
    "model.save_model(\"model_1.keras\") #save in future as .keras"
   ]
  },
  {
   "cell_type": "code",
   "execution_count": null,
   "metadata": {},
   "outputs": [],
   "source": [
    "#train model with tchains\n",
    "tchain_bg = ROOT.TChain(\"T\")\n",
    "tchain_bg.Add(data_dir+\"flat/background2.root\")\n",
    "tchain_bg.Add(data_dir+\"flat/background3.root\")\n",
    "\n",
    "tchain_sig = ROOT.TChain(\"T\")\n",
    "tchain_sig.Add(data_dir+\"flat/signal.root\")\n",
    "\n",
    "tchains = [tchain_sig, tchain_bg]\n",
    "history = model.train_model(data=tchains, n_epochs=10, batch_size=5000)\n",
    "model.save_model(\"model_1.keras\") #save in future as .keras"
   ]
  }
 ],
 "metadata": {
  "kernelspec": {
   "display_name": "Python 3 (ipykernel)",
   "language": "python",
   "name": "python3"
  }
 },
 "nbformat": 4,
 "nbformat_minor": 2
}
