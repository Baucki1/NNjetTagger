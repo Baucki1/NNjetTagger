{
 "cells": [
  {
   "cell_type": "markdown",
   "metadata": {
    "id": "ZTR43cOdza2z"
   },
   "source": [
    "### Configure notebook\n",
    "We first download and install necessary libraries."
   ]
  },
  {
   "cell_type": "code",
   "execution_count": 1,
   "metadata": {
    "id": "qpSwuXuQEwLT"
   },
   "outputs": [
    {
     "name": "stdout",
     "output_type": "stream",
     "text": [
      "Looking in links: https://data.pyg.org/whl/torch-1.13.0+cpu.html\n",
      "Requirement already satisfied: pyg-lib in /afs/desy.de/user/b/bauckhag/.local/lib/python3.9/site-packages (0.4.0+pt113cpu)\n",
      "Requirement already satisfied: torch-scatter in /cvmfs/sft.cern.ch/lcg/views/LCG_105/x86_64-centos7-gcc11-opt/lib/python3.9/site-packages (2.1.1)\n",
      "Requirement already satisfied: torch-sparse in /cvmfs/sft.cern.ch/lcg/views/LCG_105/x86_64-centos7-gcc11-opt/lib/python3.9/site-packages (0.6.17)\n",
      "Requirement already satisfied: torch-cluster in /cvmfs/sft.cern.ch/lcg/views/LCG_105/x86_64-centos7-gcc11-opt/lib/python3.9/site-packages (1.6.1)\n",
      "Requirement already satisfied: torch-spline-conv in /afs/desy.de/user/b/bauckhag/.local/lib/python3.9/site-packages (1.2.2+pt113cpu)\n",
      "Requirement already satisfied: torch-geometric in /cvmfs/sft.cern.ch/lcg/views/LCG_105/x86_64-centos7-gcc11-opt/lib/python3.9/site-packages (2.3.0)\n",
      "Requirement already satisfied: scipy in /cvmfs/sft.cern.ch/lcg/views/LCG_105/x86_64-centos7-gcc11-opt/lib/python3.9/site-packages (from torch-sparse) (1.11.3)\n",
      "Requirement already satisfied: tqdm in /cvmfs/sft.cern.ch/lcg/views/LCG_105/x86_64-centos7-gcc11-opt/lib/python3.9/site-packages (from torch-geometric) (4.66.1)\n",
      "Requirement already satisfied: numpy in /cvmfs/sft.cern.ch/lcg/views/LCG_105/x86_64-centos7-gcc11-opt/lib/python3.9/site-packages (from torch-geometric) (1.23.5)\n",
      "Requirement already satisfied: jinja2 in /cvmfs/sft.cern.ch/lcg/views/LCG_105/x86_64-centos7-gcc11-opt/lib/python3.9/site-packages (from torch-geometric) (3.1.2)\n",
      "Requirement already satisfied: requests in /cvmfs/sft.cern.ch/lcg/views/LCG_105/x86_64-centos7-gcc11-opt/lib/python3.9/site-packages (from torch-geometric) (2.31.0)\n",
      "Requirement already satisfied: pyparsing in /cvmfs/sft.cern.ch/lcg/views/LCG_105/x86_64-centos7-gcc11-opt/lib/python3.9/site-packages (from torch-geometric) (2.4.7)\n",
      "Requirement already satisfied: scikit-learn in /cvmfs/sft.cern.ch/lcg/views/LCG_105/x86_64-centos7-gcc11-opt/lib/python3.9/site-packages (from torch-geometric) (1.2.2)\n",
      "Requirement already satisfied: psutil>=5.8.0 in /cvmfs/sft.cern.ch/lcg/views/LCG_105/x86_64-centos7-gcc11-opt/lib/python3.9/site-packages (from torch-geometric) (5.8.0)\n",
      "Requirement already satisfied: MarkupSafe>=2.0 in /cvmfs/sft.cern.ch/lcg/views/LCG_105/x86_64-centos7-gcc11-opt/lib/python3.9/site-packages (from jinja2->torch-geometric) (2.1.2)\n",
      "Requirement already satisfied: charset_normalizer<4,>=2 in /cvmfs/sft.cern.ch/lcg/views/LCG_105/x86_64-centos7-gcc11-opt/lib/python3.9/site-packages (from requests->torch-geometric) (2.0.6)\n",
      "Requirement already satisfied: idna<4,>=2.5 in /cvmfs/sft.cern.ch/lcg/views/LCG_105/x86_64-centos7-gcc11-opt/lib/python3.9/site-packages (from requests->torch-geometric) (3.2)\n",
      "Requirement already satisfied: urllib3<3,>=1.21.1 in /cvmfs/sft.cern.ch/lcg/views/LCG_105/x86_64-centos7-gcc11-opt/lib/python3.9/site-packages (from requests->torch-geometric) (1.26.16)\n",
      "Requirement already satisfied: certifi>=2017.4.17 in /cvmfs/sft.cern.ch/lcg/views/LCG_105/x86_64-centos7-gcc11-opt/lib/python3.9/site-packages (from requests->torch-geometric) (2022.12.7)\n",
      "Requirement already satisfied: joblib>=1.1.1 in /cvmfs/sft.cern.ch/lcg/views/LCG_105/x86_64-centos7-gcc11-opt/lib/python3.9/site-packages (from scikit-learn->torch-geometric) (1.2.0)\n",
      "Requirement already satisfied: threadpoolctl>=2.0.0 in /cvmfs/sft.cern.ch/lcg/views/LCG_105/x86_64-centos7-gcc11-opt/lib/python3.9/site-packages (from scikit-learn->torch-geometric) (2.2.0)\n",
      "\u001b[33mDEPRECATION: gosam 2.1.1-4b98559 has a non-standard version number. pip 24.0 will enforce this behaviour change. A possible replacement is to upgrade to a newer version of gosam or contact the author to suggest that they release a version with a conforming version number. Discussion can be found at https://github.com/pypa/pip/issues/12063\u001b[0m\u001b[33m\n",
      "\u001b[0m\u001b[33mDEPRECATION: professor2 X.Y.Z has a non-standard version number. pip 24.0 will enforce this behaviour change. A possible replacement is to upgrade to a newer version of professor2 or contact the author to suggest that they release a version with a conforming version number. Discussion can be found at https://github.com/pypa/pip/issues/12063\u001b[0m\u001b[33m\n",
      "\u001b[0m"
     ]
    }
   ],
   "source": [
    "# We use a CPU-based installation, but you can vary it easily from the PyG website:\n",
    "# https://pytorch-geometric.readthedocs.io/en/latest/notes/installation.html\n",
    "!pip install --user pyg-lib torch-scatter torch-sparse torch-cluster torch-spline-conv torch-geometric -f https://data.pyg.org/whl/torch-1.13.0+cpu.html"
   ]
  },
  {
   "cell_type": "code",
   "execution_count": 2,
   "metadata": {
    "id": "md3QNW5jGSIb"
   },
   "outputs": [
    {
     "name": "stdout",
     "output_type": "stream",
     "text": [
      "Collecting git+https://github.com/alessiodevoto/jetgraphs.git\n",
      "  Cloning https://github.com/alessiodevoto/jetgraphs.git to /tmp/pip-req-build-myjrt72v\n",
      "  Running command git clone --filter=blob:none --quiet https://github.com/alessiodevoto/jetgraphs.git /tmp/pip-req-build-myjrt72v\n",
      "  warning: templates not found in /build/jenkins/workspace/lcg_release_pipeline/install/git/2.29.2/x86_64-centos7-gcc11-opt/share/git-core/templates\n",
      "  Resolved https://github.com/alessiodevoto/jetgraphs.git to commit 8e9096c22a137719151b2a1a6840f1098059dd57\n",
      "  Preparing metadata (setup.py) ... \u001b[?25ldone\n",
      "\u001b[?25hRequirement already satisfied: numpy in /cvmfs/sft.cern.ch/lcg/views/LCG_105/x86_64-centos7-gcc11-opt/lib/python3.9/site-packages (from jetgraphs==0.1) (1.23.5)\n",
      "Collecting matplotlib==3.5.1 (from jetgraphs==0.1)\n",
      "  Using cached matplotlib-3.5.1-cp39-cp39-manylinux_2_5_x86_64.manylinux1_x86_64.whl.metadata (6.7 kB)\n",
      "Requirement already satisfied: networkx in /cvmfs/sft.cern.ch/lcg/views/LCG_105/x86_64-centos7-gcc11-opt/lib/python3.9/site-packages (from jetgraphs==0.1) (2.8.4)\n",
      "Requirement already satisfied: pytorch_lightning in /cvmfs/sft.cern.ch/lcg/views/LCG_105/x86_64-centos7-gcc11-opt/lib/python3.9/site-packages (from jetgraphs==0.1) (2.1.2)\n",
      "Requirement already satisfied: scikit-learn in /cvmfs/sft.cern.ch/lcg/views/LCG_105/x86_64-centos7-gcc11-opt/lib/python3.9/site-packages (from jetgraphs==0.1) (1.2.2)\n",
      "Requirement already satisfied: scipy in /cvmfs/sft.cern.ch/lcg/views/LCG_105/x86_64-centos7-gcc11-opt/lib/python3.9/site-packages (from jetgraphs==0.1) (1.11.3)\n",
      "Requirement already satisfied: seaborn in /cvmfs/sft.cern.ch/lcg/views/LCG_105/x86_64-centos7-gcc11-opt/lib/python3.9/site-packages (from jetgraphs==0.1) (0.11.2)\n",
      "Requirement already satisfied: deepdish in /afs/desy.de/user/b/bauckhag/.local/lib/python3.9/site-packages (from jetgraphs==0.1) (0.3.7)\n",
      "Requirement already satisfied: torchmetrics in /cvmfs/sft.cern.ch/lcg/views/LCG_105/x86_64-centos7-gcc11-opt/lib/python3.9/site-packages (from jetgraphs==0.1) (0.11.4)\n",
      "Requirement already satisfied: tqdm in /cvmfs/sft.cern.ch/lcg/views/LCG_105/x86_64-centos7-gcc11-opt/lib/python3.9/site-packages (from jetgraphs==0.1) (4.66.1)\n",
      "Requirement already satisfied: cycler>=0.10 in /cvmfs/sft.cern.ch/lcg/views/LCG_105/x86_64-centos7-gcc11-opt/lib/python3.9/site-packages (from matplotlib==3.5.1->jetgraphs==0.1) (0.10.0)\n",
      "Requirement already satisfied: fonttools>=4.22.0 in /cvmfs/sft.cern.ch/lcg/views/LCG_105/x86_64-centos7-gcc11-opt/lib/python3.9/site-packages (from matplotlib==3.5.1->jetgraphs==0.1) (4.40.0)\n",
      "Requirement already satisfied: kiwisolver>=1.0.1 in /cvmfs/sft.cern.ch/lcg/views/LCG_105/x86_64-centos7-gcc11-opt/lib/python3.9/site-packages (from matplotlib==3.5.1->jetgraphs==0.1) (1.0.1)\n",
      "Requirement already satisfied: packaging>=20.0 in /cvmfs/sft.cern.ch/lcg/views/LCG_105/x86_64-centos7-gcc11-opt/lib/python3.9/site-packages (from matplotlib==3.5.1->jetgraphs==0.1) (23.1)\n",
      "Requirement already satisfied: pillow>=6.2.0 in /cvmfs/sft.cern.ch/lcg/views/LCG_105/x86_64-centos7-gcc11-opt/lib/python3.9/site-packages (from matplotlib==3.5.1->jetgraphs==0.1) (9.5.0)\n",
      "Requirement already satisfied: pyparsing>=2.2.1 in /cvmfs/sft.cern.ch/lcg/views/LCG_105/x86_64-centos7-gcc11-opt/lib/python3.9/site-packages (from matplotlib==3.5.1->jetgraphs==0.1) (2.4.7)\n",
      "Requirement already satisfied: python-dateutil>=2.7 in /cvmfs/sft.cern.ch/lcg/views/LCG_105/x86_64-centos7-gcc11-opt/lib/python3.9/site-packages (from matplotlib==3.5.1->jetgraphs==0.1) (2.8.2)\n",
      "Requirement already satisfied: tables in /cvmfs/sft.cern.ch/lcg/views/LCG_105/x86_64-centos7-gcc11-opt/lib/python3.9/site-packages (from deepdish->jetgraphs==0.1) (3.6.1)\n",
      "Requirement already satisfied: torch>=1.12.0 in /cvmfs/sft.cern.ch/lcg/views/LCG_105/x86_64-centos7-gcc11-opt/lib/python3.9/site-packages (from pytorch_lightning->jetgraphs==0.1) (2.1.0a0+gitunknown)\n",
      "Requirement already satisfied: PyYAML>=5.4 in /cvmfs/sft.cern.ch/lcg/views/LCG_105/x86_64-centos7-gcc11-opt/lib/python3.9/site-packages (from pytorch_lightning->jetgraphs==0.1) (6.0.1)\n",
      "Requirement already satisfied: fsspec>2021.06.0 in /cvmfs/sft.cern.ch/lcg/views/LCG_105/x86_64-centos7-gcc11-opt/lib/python3.9/site-packages (from fsspec[http]>2021.06.0->pytorch_lightning->jetgraphs==0.1) (2023.10.0)\n",
      "Requirement already satisfied: typing-extensions>=4.0.0 in /cvmfs/sft.cern.ch/lcg/views/LCG_105/x86_64-centos7-gcc11-opt/lib/python3.9/site-packages (from pytorch_lightning->jetgraphs==0.1) (4.5.0)\n",
      "Requirement already satisfied: lightning-utilities>=0.8.0 in /cvmfs/sft.cern.ch/lcg/views/LCG_105/x86_64-centos7-gcc11-opt/lib/python3.9/site-packages (from pytorch_lightning->jetgraphs==0.1) (0.8.0)\n",
      "Requirement already satisfied: joblib>=1.1.1 in /cvmfs/sft.cern.ch/lcg/views/LCG_105/x86_64-centos7-gcc11-opt/lib/python3.9/site-packages (from scikit-learn->jetgraphs==0.1) (1.2.0)\n",
      "Requirement already satisfied: threadpoolctl>=2.0.0 in /cvmfs/sft.cern.ch/lcg/views/LCG_105/x86_64-centos7-gcc11-opt/lib/python3.9/site-packages (from scikit-learn->jetgraphs==0.1) (2.2.0)\n",
      "Requirement already satisfied: pandas>=0.23 in /cvmfs/sft.cern.ch/lcg/views/LCG_105/x86_64-centos7-gcc11-opt/lib/python3.9/site-packages (from seaborn->jetgraphs==0.1) (1.5.3)\n",
      "Requirement already satisfied: six in /cvmfs/sft.cern.ch/lcg/views/LCG_105/x86_64-centos7-gcc11-opt/lib/python3.9/site-packages (from cycler>=0.10->matplotlib==3.5.1->jetgraphs==0.1) (1.16.0)\n",
      "Requirement already satisfied: requests in /cvmfs/sft.cern.ch/lcg/views/LCG_105/x86_64-centos7-gcc11-opt/lib/python3.9/site-packages (from fsspec[http]>2021.06.0->pytorch_lightning->jetgraphs==0.1) (2.31.0)\n",
      "Requirement already satisfied: aiohttp!=4.0.0a0,!=4.0.0a1 in /cvmfs/sft.cern.ch/lcg/views/LCG_105/x86_64-centos7-gcc11-opt/lib/python3.9/site-packages (from fsspec[http]>2021.06.0->pytorch_lightning->jetgraphs==0.1) (3.8.4)\n",
      "Requirement already satisfied: setuptools in /cvmfs/sft.cern.ch/lcg/views/LCG_105/x86_64-centos7-gcc11-opt/lib/python3.9/site-packages (from kiwisolver>=1.0.1->matplotlib==3.5.1->jetgraphs==0.1) (57.1.0)\n",
      "Requirement already satisfied: pytz>=2020.1 in /cvmfs/sft.cern.ch/lcg/views/LCG_105/x86_64-centos7-gcc11-opt/lib/python3.9/site-packages (from pandas>=0.23->seaborn->jetgraphs==0.1) (2022.7.1)\n",
      "Requirement already satisfied: filelock in /cvmfs/sft.cern.ch/lcg/views/LCG_105/x86_64-centos7-gcc11-opt/lib/python3.9/site-packages (from torch>=1.12.0->pytorch_lightning->jetgraphs==0.1) (3.12.0)\n",
      "Requirement already satisfied: sympy in /cvmfs/sft.cern.ch/lcg/views/LCG_105/x86_64-centos7-gcc11-opt/lib/python3.9/site-packages (from torch>=1.12.0->pytorch_lightning->jetgraphs==0.1) (1.8)\n",
      "Requirement already satisfied: jinja2 in /cvmfs/sft.cern.ch/lcg/views/LCG_105/x86_64-centos7-gcc11-opt/lib/python3.9/site-packages (from torch>=1.12.0->pytorch_lightning->jetgraphs==0.1) (3.1.2)\n",
      "Requirement already satisfied: numexpr>=2.6.2 in /cvmfs/sft.cern.ch/lcg/views/LCG_105/x86_64-centos7-gcc11-opt/lib/python3.9/site-packages (from tables->deepdish->jetgraphs==0.1) (2.8.4)\n",
      "Requirement already satisfied: attrs>=17.3.0 in /cvmfs/sft.cern.ch/lcg/views/LCG_105/x86_64-centos7-gcc11-opt/lib/python3.9/site-packages (from aiohttp!=4.0.0a0,!=4.0.0a1->fsspec[http]>2021.06.0->pytorch_lightning->jetgraphs==0.1) (23.1.0)\n",
      "Requirement already satisfied: charset-normalizer<4.0,>=2.0 in /cvmfs/sft.cern.ch/lcg/views/LCG_105/x86_64-centos7-gcc11-opt/lib/python3.9/site-packages (from aiohttp!=4.0.0a0,!=4.0.0a1->fsspec[http]>2021.06.0->pytorch_lightning->jetgraphs==0.1) (2.0.6)\n",
      "Requirement already satisfied: multidict<7.0,>=4.5 in /cvmfs/sft.cern.ch/lcg/views/LCG_105/x86_64-centos7-gcc11-opt/lib/python3.9/site-packages (from aiohttp!=4.0.0a0,!=4.0.0a1->fsspec[http]>2021.06.0->pytorch_lightning->jetgraphs==0.1) (6.0.2)\n",
      "Requirement already satisfied: async_timeout<5.0,>=4.0.0a3 in /cvmfs/sft.cern.ch/lcg/views/LCG_105/x86_64-centos7-gcc11-opt/lib/python3.9/site-packages (from aiohttp!=4.0.0a0,!=4.0.0a1->fsspec[http]>2021.06.0->pytorch_lightning->jetgraphs==0.1) (4.0.2)\n",
      "Requirement already satisfied: yarl<2.0,>=1.0 in /cvmfs/sft.cern.ch/lcg/views/LCG_105/x86_64-centos7-gcc11-opt/lib/python3.9/site-packages (from aiohttp!=4.0.0a0,!=4.0.0a1->fsspec[http]>2021.06.0->pytorch_lightning->jetgraphs==0.1) (1.7.2)\n",
      "Requirement already satisfied: frozenlist>=1.1.1 in /cvmfs/sft.cern.ch/lcg/views/LCG_105/x86_64-centos7-gcc11-opt/lib/python3.9/site-packages (from aiohttp!=4.0.0a0,!=4.0.0a1->fsspec[http]>2021.06.0->pytorch_lightning->jetgraphs==0.1) (1.3.0)\n",
      "Requirement already satisfied: aiosignal>=1.1.2 in /cvmfs/sft.cern.ch/lcg/views/LCG_105/x86_64-centos7-gcc11-opt/lib/python3.9/site-packages (from aiohttp!=4.0.0a0,!=4.0.0a1->fsspec[http]>2021.06.0->pytorch_lightning->jetgraphs==0.1) (1.2.0)\n",
      "Requirement already satisfied: MarkupSafe>=2.0 in /cvmfs/sft.cern.ch/lcg/views/LCG_105/x86_64-centos7-gcc11-opt/lib/python3.9/site-packages (from jinja2->torch>=1.12.0->pytorch_lightning->jetgraphs==0.1) (2.1.2)\n",
      "Requirement already satisfied: idna<4,>=2.5 in /cvmfs/sft.cern.ch/lcg/views/LCG_105/x86_64-centos7-gcc11-opt/lib/python3.9/site-packages (from requests->fsspec[http]>2021.06.0->pytorch_lightning->jetgraphs==0.1) (3.2)\n",
      "Requirement already satisfied: urllib3<3,>=1.21.1 in /cvmfs/sft.cern.ch/lcg/views/LCG_105/x86_64-centos7-gcc11-opt/lib/python3.9/site-packages (from requests->fsspec[http]>2021.06.0->pytorch_lightning->jetgraphs==0.1) (1.26.16)\n",
      "Requirement already satisfied: certifi>=2017.4.17 in /cvmfs/sft.cern.ch/lcg/views/LCG_105/x86_64-centos7-gcc11-opt/lib/python3.9/site-packages (from requests->fsspec[http]>2021.06.0->pytorch_lightning->jetgraphs==0.1) (2022.12.7)\n",
      "Requirement already satisfied: mpmath>=0.19 in /cvmfs/sft.cern.ch/lcg/views/LCG_105/x86_64-centos7-gcc11-opt/lib/python3.9/site-packages (from sympy->torch>=1.12.0->pytorch_lightning->jetgraphs==0.1) (1.2.1)\n",
      "Using cached matplotlib-3.5.1-cp39-cp39-manylinux_2_5_x86_64.manylinux1_x86_64.whl (11.2 MB)\n",
      "\u001b[33mDEPRECATION: gosam 2.1.1-4b98559 has a non-standard version number. pip 24.0 will enforce this behaviour change. A possible replacement is to upgrade to a newer version of gosam or contact the author to suggest that they release a version with a conforming version number. Discussion can be found at https://github.com/pypa/pip/issues/12063\u001b[0m\u001b[33m\n",
      "\u001b[0m\u001b[33mDEPRECATION: professor2 X.Y.Z has a non-standard version number. pip 24.0 will enforce this behaviour change. A possible replacement is to upgrade to a newer version of professor2 or contact the author to suggest that they release a version with a conforming version number. Discussion can be found at https://github.com/pypa/pip/issues/12063\u001b[0m\u001b[33m\n",
      "\u001b[0mInstalling collected packages: matplotlib\n",
      "Successfully installed matplotlib-3.5.1\n"
     ]
    }
   ],
   "source": [
    "!pip install --user git+https://github.com/alessiodevoto/jetgraphs.git"
   ]
  },
  {
   "cell_type": "markdown",
   "metadata": {
    "id": "Tt6zotHjznon"
   },
   "source": [
    "# Download dataset \n"
   ]
  },
  {
   "cell_type": "markdown",
   "metadata": {
    "id": "SyKvx_3XA3bj"
   },
   "source": [
    "#### 1. Define strategy to build edges\n",
    "In order to have full control over the edges, we use our custom transform `jetgraphs.transforms.BuildEdges`. \n",
    "Through this, we can decide:\n",
    "\n",
    "- `directed`: if the dataset should be directed\n",
    "- `same_layer_threshold`: what is the maximum same layer distance to connect two nodes\n",
    "- `consecutive_layer_threshold`: what is the maximum consecutive layer distance to connect two nodes\n",
    "- `self_loop_weight`: what edge attribute to assign to self loops.\n",
    "- `distance_p`: how should the distance between two nodes be computed? {1=manhattan, 2=euclidean}\n",
    "\n",
    "Thanks to this transform, it's now easy to decide the graph building policy and test different settings, for instance the edge thresholds."
   ]
  },
  {
   "cell_type": "code",
   "execution_count": 3,
   "metadata": {
    "id": "qUkMHmv220-a"
   },
   "outputs": [
    {
     "name": "stderr",
     "output_type": "stream",
     "text": [
      "/cvmfs/sft.cern.ch/lcg/views/LCG_105/x86_64-centos7-gcc11-opt/lib/python3.9/site-packages/torch_geometric/typing.py:18: UserWarning: An issue occurred while importing 'pyg-lib'. Disabling its usage. Stacktrace: /lib64/libm.so.6: version `GLIBC_2.27' not found (required by /afs/desy.de/user/b/bauckhag/.local/lib/python3.9/site-packages/libpyg.so)\n",
      "  warnings.warn(f\"An issue occurred while importing 'pyg-lib'. \"\n",
      "/cvmfs/sft.cern.ch/lcg/views/LCG_105/x86_64-centos7-gcc11-opt/lib/python3.9/site-packages/torch_geometric/typing.py:42: UserWarning: An issue occurred while importing 'torch-sparse'. Disabling its usage. Stacktrace: /lib64/libm.so.6: version `GLIBC_2.27' not found (required by /afs/desy.de/user/b/bauckhag/.local/lib/python3.9/site-packages/libpyg.so)\n",
      "  warnings.warn(f\"An issue occurred while importing 'torch-sparse'. \"\n"
     ]
    }
   ],
   "source": [
    "from jetgraphs.transforms import BuildEdges\n",
    "\n",
    "edge_builder = BuildEdges(\n",
    "    directed=False, \n",
    "    self_loop_weight=0,\n",
    "    same_layer_threshold=0.6, \n",
    "    consecutive_layer_threshold=0.6,\n",
    "    distance_p=2)"
   ]
  },
  {
   "cell_type": "markdown",
   "metadata": {
    "id": "YE6TB6Wh-jpG"
   },
   "source": [
    "#### 2. 🆕 🛑 Add optional transforms and filters (new feature)\n",
    "\n",
    "We can now use filters during the processing of graphs. A filter is a boolean class that, given a graph, returns True if that graph should be included in the dataset, else False. We apply filters at two stages: before **pre_transform** and before **transform**, like shown in image here. \n",
    "\n",
    "Filter are the best way to exclude graphs based on their number of nodes. Graphs are filtered and pre transformed at processing stage. `pre_filter`, `pre_transform`, `post_filter` and `transform` are all provided as arguments to JetGraphDataset class.\n",
    "\n",
    "Filters are found in `jetgraphs.transforms`.\n",
    "\n",
    "![](https://drive.google.com/uc?export=view&id=1QHc4hJlZGm3xI5NlRs3Ci0Fz2sOAgqoS)\n",
    "\n"
   ]
  },
  {
   "cell_type": "code",
   "execution_count": 4,
   "metadata": {
    "id": "2y93deySzVxg"
   },
   "outputs": [],
   "source": [
    "from jetgraphs.transforms import GraphFilter \n",
    "\n",
    "graph_filter = GraphFilter(min_num_nodes=2) # only graphs with at least 3 nodes will be accepted"
   ]
  },
  {
   "cell_type": "markdown",
   "metadata": {
    "id": "Z5Li1STzy5wJ"
   },
   "source": [
    "Optionally, we can also add other transforms. All transforms are found in `jetgraphs.transforms`.\n",
    "\n",
    "Here we just use `NumLayers` and `LayersNum`, that respectively add to each data object the number of layers and the ids of layers (e.g. [1,4] ) found in that graph."
   ]
  },
  {
   "cell_type": "code",
   "execution_count": 5,
   "metadata": {
    "id": "MVL-xkrQBN1k"
   },
   "outputs": [],
   "source": [
    "from torch_geometric.transforms import Compose \n",
    "from jetgraphs.transforms import NumLayers, LayersNum\n",
    "\n",
    "optional_transforms = Compose([NumLayers(), LayersNum()])\n"
   ]
  },
  {
   "cell_type": "markdown",
   "metadata": {
    "id": "iqxN_pEG2xO1"
   },
   "source": [
    "#### 3. Download dataset\n",
    "🛑 Remark: After the inital download and preprocessing (this url is slower than the others), a saved preprocessed version is kept on disk, so that any further processing will be much quicker.\n",
    "\n",
    "\n",
    "We can download and build the dataset like so:\n"
   ]
  },
  {
   "cell_type": "code",
   "execution_count": 6,
   "metadata": {
    "id": "NPoSEZEK6q7P"
   },
   "outputs": [],
   "source": [
    "!rm -rf content/jetgraph_dataset"
   ]
  },
  {
   "cell_type": "code",
   "execution_count": 7,
   "metadata": {},
   "outputs": [
    {
     "name": "stdout",
     "output_type": "stream",
     "text": [
      "/nfs/dust/atlas/user/bauckhag/code/DESY-ATLAS-BSM/nn_studies/source\n"
     ]
    }
   ],
   "source": [
    "!pwd"
   ]
  },
  {
   "cell_type": "code",
   "execution_count": 8,
   "metadata": {},
   "outputs": [
    {
     "name": "stdout",
     "output_type": "stream",
     "text": [
      "File:  a0_tupleGraph_barphi.h5 ['data']\n",
      "(1,) (14129955,) ()\n",
      "134\n",
      "File:  a2_tupleGraph_barenergy.h5 ['data']\n",
      "(1,) (14129955,) ()\n",
      "134\n",
      "File:  a3_tupleGraph_barlayer.h5 ['data']\n",
      "(1,) (11018354,) ()\n",
      "4\n",
      "File:  a1_tupleGraph_barlayer.h5 ['data']\n",
      "(1,) (11018354,) ()\n",
      "4\n",
      "File:  a2_tupleGraph_barpos3.h5 ['data']\n",
      "(1,) (18575107,) ()\n",
      "71\n",
      "File:  a3_tupleGraph_barpos3.h5 ['data']\n",
      "(1,) (18575107,) ()\n",
      "71\n",
      "File:  a0_tupleGraph_barenergyabs.h5 ['data']\n",
      "(1,) (14129955,) ()\n",
      "134\n",
      "File:  a2_tupleGraph_barenergyabs.h5 ['data']\n",
      "(1,) (14129955,) ()\n",
      "134\n",
      "File:  a2_tupleGraph_bareta.h5 ['data']\n",
      "(1,) (14129955,) ()\n",
      "134\n",
      "File:  a2_tupleGraph_barpos4.h5 ['data']\n",
      "(1,) (22575742,) ()\n",
      "48\n",
      "File:  a0_tupleGraph_barlayer.h5 ['data']\n",
      "(1,) (11018354,) ()\n",
      "4\n",
      "File:  a1_tupleGraph_barenergyabs.h5 ['data']\n",
      "(1,) (14129955,) ()\n",
      "134\n",
      "File:  a1_tupleGraph_barpos3.h5 ['data']\n",
      "(1,) (18575107,) ()\n",
      "71\n",
      "File:  a3_tupleGraph_barphi.h5 ['data']\n",
      "(1,) (14129955,) ()\n",
      "134\n",
      "File:  a0_tupleGraph_barpos4.h5 ['data']\n",
      "(1,) (22575742,) ()\n",
      "0\n",
      "File:  a0_tupleGraph_barpos3.h5 ['data']\n",
      "(1,) (18575107,) ()\n",
      "71\n",
      "File:  a0_tupleGraph_barenergy.h5 ['data']\n",
      "(1,) (14129955,) ()\n",
      "134\n",
      "File:  a2_tupleGraph_barphi.h5 ['data']\n",
      "(1,) (14129955,) ()\n",
      "134\n",
      "File:  a1_tupleGraph_bareta.h5 ['data']\n",
      "(1,) (14129955,) ()\n",
      "134\n",
      "File:  a0_tupleGraph_bareta.h5 ['data']\n",
      "(1,) (14129955,) ()\n",
      "134\n",
      "File:  a3_tupleGraph_barpos4.h5 ['data']\n",
      "(1,) (22575742,) ()\n",
      "48\n",
      "File:  a3_tupleGraph_barenergyabs.h5 ['data']\n",
      "(1,) (14129955,) ()\n",
      "134\n",
      "File:  a1_tupleGraph_barpos4.h5 ['data']\n",
      "(1,) (22575742,) ()\n",
      "48\n",
      "File:  a0_tupleGraph_barnodes.h5 ['data']\n",
      "(1,) (249888,) ()\n",
      "39\n",
      "File:  a2_tupleGraph_barlayer.h5 ['data']\n",
      "(1,) (11018354,) ()\n",
      "4\n",
      "File:  a3_tupleGraph_barenergy.h5 ['data']\n",
      "(1,) (14129955,) ()\n",
      "134\n",
      "File:  a3_tupleGraph_bareta.h5 ['data']\n",
      "(1,) (14129955,) ()\n",
      "134\n",
      "File:  a1_tupleGraph_barenergy.h5 ['data']\n",
      "(1,) (14129955,) ()\n",
      "134\n",
      "File:  a0_tupleGraph_barenergy copy.hdf5 ['data']\n",
      "(1,) (14129955,) ()\n",
      "134\n",
      "File:  a1_tupleGraph_barphi.h5 ['data']\n",
      "(1,) (14129955,) ()\n",
      "134\n"
     ]
    }
   ],
   "source": [
    "import h5py\n",
    "import os\n",
    "\n",
    "#loop over every file in ../data/GNN/Signal_v6\n",
    "dir = \"/nfs/dust/atlas/user/bauckhag/code/DESY-ATLAS-BSM/nn_studies/data/GNN/raw/Signal_v6/\"\n",
    "for file in os.listdir(dir):\n",
    "    hdf5_file = h5py.File(dir+file, 'r')\n",
    "    keys = list(hdf5_file.keys())\n",
    "    print(\"File: \", file, keys)\n",
    "    dataset = hdf5_file[keys[0]]\n",
    "    print(dataset.shape, dataset[0].shape, dataset[0][0].shape)\n",
    "    print(dataset[0][50001])"
   ]
  },
  {
   "cell_type": "code",
   "execution_count": 9,
   "metadata": {
    "colab": {
     "base_uri": "https://localhost:8080/"
    },
    "id": "ghzUduwz0WrV",
    "outputId": "37d667e2-c23a-4400-aee6-4094c4d79422"
   },
   "outputs": [
    {
     "name": "stdout",
     "output_type": "stream",
     "text": [
      "Loaded dataset containing subset of 10%\n"
     ]
    }
   ],
   "source": [
    "from jetgraphs.JetGraphDataset import JetGraphDatasetInMemory_v2\n",
    "\n",
    "#datasets_root = \"content/jetgraphdataset\"\n",
    "datasets_root = \"../data/GNN\"\n",
    "raw_data_url = \"https://cernbox.cern.ch/s/PYurUUzcNdXEGpz/download\"\n",
    "\n",
    "jet_graph_dataset = JetGraphDatasetInMemory_v2(\n",
    "    root = datasets_root,           # directory where to download data \n",
    "    url = raw_data_url,             # url to raw data\n",
    "    subset = '10%',                # which subset of the intial 100k graph to consider, default is 100%\n",
    "    pre_filter = graph_filter,      \n",
    "    pre_transform = edge_builder,   # edge_builder should be passed as pre_transform to keep data on disk.\n",
    "    post_filter = graph_filter,\n",
    "    transform = optional_transforms,\n",
    "    verbose=True\n",
    "    ) "
   ]
  },
  {
   "cell_type": "code",
   "execution_count": 10,
   "metadata": {
    "colab": {
     "base_uri": "https://localhost:8080/"
    },
    "id": "0ZkBPGhcUHjA",
    "outputId": "81e6cca5-6161-4f47-a4ef-06d557f3f0d9"
   },
   "outputs": [
    {
     "data": {
      "text/plain": [
       "Data(x=[6, 4], y=[1], id='102', edge_attr=[22, 1], edge_index=[2, 22], num_layers=4, layers_num='[0, 1, 2, 3]')"
      ]
     },
     "execution_count": 10,
     "metadata": {},
     "output_type": "execute_result"
    }
   ],
   "source": [
    "# now graphs have a unique id, assigned only once before any other operation is performed\n",
    "# ids are the same across different versions of datasets\n",
    "jet_graph_dataset[101]"
   ]
  },
  {
   "cell_type": "code",
   "execution_count": 11,
   "metadata": {
    "colab": {
     "base_uri": "https://localhost:8080/"
    },
    "id": "VDGbdcOiUk1a",
    "outputId": "261806e0-6513-4880-f264-313fb59acf1f"
   },
   "outputs": [
    {
     "data": {
      "text/plain": [
       "JetGraphDatasetInMemory_v2(19931)"
      ]
     },
     "execution_count": 11,
     "metadata": {},
     "output_type": "execute_result"
    }
   ],
   "source": [
    "# only 486 graphs out of the initial 500 have been accepted\n",
    "jet_graph_dataset"
   ]
  },
  {
   "cell_type": "markdown",
   "metadata": {
    "id": "LdyuJqpj4ds2"
   },
   "source": [
    "#### 4. New graph plotting function\n",
    "The new function to plot a single graph offers a lot of new features. \n",
    "Most important are:\n",
    "- we can control the angle and elevation of the plot (i.e. change the point of view) (`elev` and `angle`)\n",
    "- we can decide whether higher energy nodes should be bigger in the plot (`energy_is_size`) \n",
    "- we can draw nodes belonging to differnt layers in different colors `color_layers`\n"
   ]
  },
  {
   "cell_type": "code",
   "execution_count": 12,
   "metadata": {
    "colab": {
     "base_uri": "https://localhost:8080/"
    },
    "id": "DHsZ20fFhDHw",
    "outputId": "7bb8a15e-5434-4c67-cf04-f74a50404add"
   },
   "outputs": [
    {
     "data": {
      "text/plain": [
       "Data(x=[11, 4], y=[1], id='51', edge_attr=[89, 1], edge_index=[2, 89], num_layers=4, layers_num='[0, 1, 2, 3]')"
      ]
     },
     "execution_count": 12,
     "metadata": {},
     "output_type": "execute_result"
    }
   ],
   "source": [
    "g = jet_graph_dataset[50]\n",
    "g"
   ]
  },
  {
   "cell_type": "code",
   "execution_count": 13,
   "metadata": {
    "colab": {
     "base_uri": "https://localhost:8080/",
     "height": 391
    },
    "id": "1_qSL3S3eEdb",
    "outputId": "20a3f154-c3f5-4e68-9ace-695b25a28ad8"
   },
   "outputs": [
    {
     "data": {
      "image/png": "[encoded data removed]",
      "text/plain": [
       "<Figure size 360x360 with 1 Axes>"
      ]
     },
     "metadata": {
      "needs_background": "light"
     },
     "output_type": "display_data"
    }
   ],
   "source": [
    "from jetgraphs.utils import plot_jet_graph\n",
    "\n",
    "plot_jet_graph(\n",
    "    g, \n",
    "    angle=30, \n",
    "    elev=10, \n",
    "    color_layers=True,\n",
    "    energy_is_size=True,\n",
    "    save_to_path=\"test.png\")"
   ]
  },
  {
   "cell_type": "code",
   "execution_count": 14,
   "metadata": {},
   "outputs": [
    {
     "name": "stderr",
     "output_type": "stream",
     "text": [
      "/cvmfs/sft.cern.ch/lcg/views/LCG_105/x86_64-centos7-gcc11-opt/lib/python3.9/site-packages/torch/utils/data/dataloader.py:557: UserWarning: This DataLoader will create 96 worker processes in total. Our suggested max number of worker in current system is 20, which is smaller than what this DataLoader is going to create. Please be aware that excessive worker creation might get DataLoader running slow or even freeze, lower the worker number to avoid potential slowness/freeze if necessary.\n",
      "  warnings.warn(_create_warning_msg(\n"
     ]
    },
    {
     "name": "stdout",
     "output_type": "stream",
     "text": [
      "\n",
      "*** JetGraph Dataset ***\n",
      "\n",
      "Number of classes: 2\n",
      "Number of graphs: 19931\n",
      "Dataset is directed: False\n",
      "Number of node features: 4\n",
      "Number of edge features: 1\n",
      "Number of positive samples:9941.00\n"
     ]
    }
   ],
   "source": [
    "from torch_geometric.loader import DataLoader\n",
    "from sklearn.model_selection import train_test_split\n",
    "\n",
    "# Create the dataloaders.\n",
    "train_idx, test_idx = train_test_split(range(len(jet_graph_dataset)), stratify=[m.y[0].item() for m in jet_graph_dataset], test_size=0.2, random_state=77)\n",
    "#train_loader = DataLoader(jet_graph_dataset[train_idx], batch_size=32, shuffle=True)#Alessio\n",
    "#test_loader = DataLoader(jet_graph_dataset[test_idx], batch_size=32)#Alessio\n",
    "train_loader = DataLoader(jet_graph_dataset[train_idx], batch_size=512, num_workers= 96, shuffle=True)\n",
    "test_loader = DataLoader(jet_graph_dataset[test_idx], batch_size=512, num_workers= 96)\n",
    "#from JetGraphDataset import stats\n",
    "jet_graph_dataset.stats()"
   ]
  },
  {
   "cell_type": "code",
   "execution_count": 15,
   "metadata": {},
   "outputs": [
    {
     "name": "stdout",
     "output_type": "stream",
     "text": [
      "\n",
      "*** JetGraph Dataset ***\n",
      "\n",
      "Number of classes: 2\n",
      "Number of graphs: 19931\n",
      "Dataset is directed: False\n",
      "Number of node features: 4\n",
      "Number of edge features: 1\n",
      "Number of positive samples:9941.00\n"
     ]
    },
    {
     "name": "stderr",
     "output_type": "stream",
     "text": [
      "2024-04-02 14:55:24.368609: I tensorflow/core/platform/cpu_feature_guard.cc:182] This TensorFlow binary is optimized to use available CPU instructions in performance-critical operations.\n",
      "To enable the following instructions: AVX2 AVX512F FMA, in other operations, rebuild TensorFlow with the appropriate compiler flags.\n",
      "/cvmfs/sft.cern.ch/lcg/views/LCG_105/x86_64-centos7-gcc11-opt/lib/python3.9/site-packages/pytorch_lightning/utilities/parsing.py:198: Attribute 'loss_func' is an instance of `nn.Module` and is already saved during checkpointing. It is recommended to ignore them using `self.save_hyperparameters(ignore=['loss_func'])`.\n"
     ]
    }
   ],
   "source": [
    "#from JetGraphDataset import stats\n",
    "jet_graph_dataset.stats()\n",
    "# Instantiate a model. \n",
    "# We take it from jetgraphs.models, but it can be any model for pytorch lightning.\n",
    "from jetgraphs.models import Shallow_GCN\n",
    "from jetgraphs.models import Residual_Arma, GAT, Arma\n",
    "model = Arma(hidden_channels=256,node_feat_size=jet_graph_dataset[0].x.shape[1], use_edge_attr= False)\n",
    "#model = Shallow_GCN(batch_size=32, hidden_channels=32, node_feat_size=jet_graph_dataset[0].x.shape[1])\n",
    "model \n",
    "train_dataset = jet_graph_dataset[train_idx]\n",
    "test_dataset = jet_graph_dataset[test_idx]"
   ]
  },
  {
   "cell_type": "code",
   "execution_count": 16,
   "metadata": {},
   "outputs": [
    {
     "name": "stderr",
     "output_type": "stream",
     "text": [
      "GPU available: False, used: False\n",
      "TPU available: False, using: 0 TPU cores\n",
      "IPU available: False, using: 0 IPUs\n",
      "HPU available: False, using: 0 HPUs\n",
      "\n",
      "  | Name  | Type              | Params\n",
      "--------------------------------------------\n",
      "0 | loss  | BCEWithLogitsLoss | 0     \n",
      "1 | norm  | BatchNorm         | 8     \n",
      "2 | conv1 | ARMAConv          | 203 K \n",
      "3 | conv2 | ARMAConv          | 590 K \n",
      "4 | conv3 | ARMAConv          | 590 K \n",
      "5 | lin0  | Linear            | 65.8 K\n",
      "6 | lin   | Linear            | 257   \n",
      "--------------------------------------------\n",
      "1.5 M     Trainable params\n",
      "0         Non-trainable params\n",
      "1.5 M     Total params\n",
      "5.803     Total estimated model params size (MB)\n"
     ]
    },
    {
     "data": {
      "application/vnd.jupyter.widget-view+json": {
       "model_id": "9ae4769aaf5f490280612d14a93defe6",
       "version_major": 2,
       "version_minor": 0
      },
      "text/plain": [
       "Sanity Checking: |                                                                                            …"
      ]
     },
     "metadata": {},
     "output_type": "display_data"
    },
    {
     "data": {
      "application/vnd.jupyter.widget-view+json": {
       "model_id": "af6bf366bb534578bfa5d085830fc832",
       "version_major": 2,
       "version_minor": 0
      },
      "text/plain": [
       "Training: |                                                                                                   …"
      ]
     },
     "metadata": {},
     "output_type": "display_data"
    },
    {
     "data": {
      "application/vnd.jupyter.widget-view+json": {
       "model_id": "2e636af1f28d4b78a291ce1811f45a5f",
       "version_major": 2,
       "version_minor": 0
      },
      "text/plain": [
       "Validation: |                                                                                                 …"
      ]
     },
     "metadata": {},
     "output_type": "display_data"
    },
    {
     "name": "stderr",
     "output_type": "stream",
     "text": [
      "Metric val_loss improved. New best score: 0.376\n"
     ]
    },
    {
     "data": {
      "application/vnd.jupyter.widget-view+json": {
       "model_id": "49b2192ae79541ab9b447022ee501783",
       "version_major": 2,
       "version_minor": 0
      },
      "text/plain": [
       "Validation: |                                                                                                 …"
      ]
     },
     "metadata": {},
     "output_type": "display_data"
    },
    {
     "name": "stderr",
     "output_type": "stream",
     "text": [
      "Metric val_loss improved by 0.018 >= min_delta = 0.0. New best score: 0.359\n"
     ]
    },
    {
     "data": {
      "application/vnd.jupyter.widget-view+json": {
       "model_id": "0f9ea2c030044061b73d620fda4f7f61",
       "version_major": 2,
       "version_minor": 0
      },
      "text/plain": [
       "Validation: |                                                                                                 …"
      ]
     },
     "metadata": {},
     "output_type": "display_data"
    },
    {
     "name": "stderr",
     "output_type": "stream",
     "text": [
      "Metric val_loss improved by 0.018 >= min_delta = 0.0. New best score: 0.340\n"
     ]
    },
    {
     "data": {
      "application/vnd.jupyter.widget-view+json": {
       "model_id": "e1b4d65e25774daa9b6678070e0762ad",
       "version_major": 2,
       "version_minor": 0
      },
      "text/plain": [
       "Validation: |                                                                                                 …"
      ]
     },
     "metadata": {},
     "output_type": "display_data"
    },
    {
     "name": "stderr",
     "output_type": "stream",
     "text": [
      "Metric val_loss improved by 0.017 >= min_delta = 0.0. New best score: 0.323\n",
      "`Trainer.fit` stopped: `max_epochs=20` reached.\n"
     ]
    }
   ],
   "source": [
    "#ignore deprecation warnings\n",
    "import warnings\n",
    "\n",
    "import pytorch_lightning as ptlight\n",
    "from pytorch_lightning import loggers as pl_loggers\n",
    "from jetgraphs.utils import plot_jet_graph, plot_metrics\n",
    "import torch\n",
    "# Provide directory to store checkpoints and train.\n",
    "chkpt_dir = './checkpoints/'\n",
    "\n",
    "device = torch.device('cuda' if torch.cuda.is_available() else 'cpu')\n",
    "\n",
    "#Add LearningRateMonitor\n",
    "lr_monitor = ptlight.callbacks.LearningRateMonitor(logging_interval='step')\n",
    "\n",
    "# We save checkpoints every epoch \n",
    "checkpoint_callback = ptlight.callbacks.ModelCheckpoint(\n",
    "    dirpath=chkpt_dir,\n",
    "    filename='gcn-{epoch:02d}',\n",
    "    every_n_epochs=5,\n",
    "    save_top_k=-1)\n",
    "\n",
    "EarlyStop = ptlight.callbacks.EarlyStopping(monitor=\"val_loss\", min_delta=0.00, patience=7, verbose=True, mode=\"min\")\n",
    "\n",
    "# Define trainer.\n",
    "epochs = 20\n",
    "trainer = ptlight.Trainer(\n",
    "    #devices=1 if str(device).startswith(\"cuda\") else 0,\n",
    "    #accelerator='gpu' if torch.cuda.is_available() else 'cpu',\n",
    "    default_root_dir='./', \n",
    "    max_epochs=epochs, \n",
    "    callbacks=[checkpoint_callback, lr_monitor, EarlyStop],\n",
    "    enable_progress_bar=True,\n",
    "    log_every_n_steps=5,\n",
    "    check_val_every_n_epoch=5)\n",
    "\n",
    "# Train model.\n",
    "with warnings.catch_warnings():\n",
    "    warnings.simplefilter(\"ignore\")\n",
    "    trainer.fit(model, train_loader, test_loader)"
   ]
  },
  {
   "cell_type": "code",
   "execution_count": 17,
   "metadata": {},
   "outputs": [
    {
     "data": {
      "application/vnd.jupyter.widget-view+json": {
       "model_id": "7b4cf1c54eb443c39a195cb7b3c143e7",
       "version_major": 2,
       "version_minor": 0
      },
      "text/plain": [
       "Predicting: |                                                                                                 …"
      ]
     },
     "metadata": {},
     "output_type": "display_data"
    }
   ],
   "source": [
    "import numpy as np\n",
    "import sklearn.metrics\n",
    "import matplotlib\n",
    "import matplotlib.pyplot as plt\n",
    "from matplotlib.ticker import MaxNLocator\n",
    "from mpl_toolkits.mplot3d import Axes3D\n",
    "import warnings\n",
    "import jetgraphs\n",
    "from jetgraphs.utils import plot_jet_graph, plot_metrics\n",
    "from jetgraphs.models import Arma\n",
    "from torch_geometric.loader import DataLoader\n",
    "\n",
    "\n",
    "\n",
    "# Predict.\n",
    "with warnings.catch_warnings():\n",
    "    warnings.simplefilter(\"ignore\")\n",
    "    pretrained_filename = f'./checkpoints/gcn-epoch=19.ckpt'\n",
    "    model = Arma.load_from_checkpoint(pretrained_filename)\n",
    "    full_loader = DataLoader(jet_graph_dataset, batch_size=512, num_workers=96)\n",
    "\n",
    "    weights = trainer.predict(model, full_loader)\n",
    "    truths = []\n",
    "\n",
    "for data in jet_graph_dataset:\n",
    "    truths.append((data['y'].unsqueeze(1).float()).tolist())\n",
    "\n",
    "weights = np.array(sum(weights, []))\n",
    "truths = np.array(sum(truths, []))\n",
    "\n"
   ]
  },
  {
   "cell_type": "code",
   "execution_count": 20,
   "metadata": {},
   "outputs": [
    {
     "name": "stdout",
     "output_type": "stream",
     "text": [
      "Accuracy GNN:            0.8588\n",
      "Precision (purity) GNN:  0.8859\n",
      "Recall (efficiency) GNN: 0.8229\n"
     ]
    },
    {
     "data": {
      "image/png": "[encoded data removed]",
      "text/plain": [
       "<Figure size 1200x1000 with 4 Axes>"
      ]
     },
     "metadata": {},
     "output_type": "display_data"
    }
   ],
   "source": [
    "#plot metrics\n",
    "y_pred1, y_true1 = (weights > 0.5), (truths > 0.5)\n",
    "y_pred1_, y_true1_ = [0 if i == False else 1 for i in y_pred1], [0 if i == False else 1 for i in y_true1]\n",
    "accuracy1  = sklearn.metrics.accuracy_score(y_true1, y_pred1)\n",
    "precision1 = sklearn.metrics.precision_score(y_true1, y_pred1)\n",
    "recall1    = sklearn.metrics.recall_score(y_true1, y_pred1)\n",
    "\n",
    "print('Accuracy GNN:            %.4f' % accuracy1)\n",
    "print('Precision (purity) GNN:  %.4f' % precision1)\n",
    "print('Recall (efficiency) GNN: %.4f' % recall1)\n",
    "\n",
    "\n",
    "fpr1, tpr1, _ = sklearn.metrics.roc_curve(y_true1, weights)\n",
    "\n",
    "\n",
    "fig, axs = plt.subplots(2, 2, figsize=(12, 10), constrained_layout=True)\n",
    "axs = axs.flatten()\n",
    "ax0, ax1, ax2, ax3 = axs\n",
    "\n",
    "# Plot the model outputs\n",
    "# binning=dict(bins=50, range=(0,1), histtype='step', log=True)\n",
    "binning=dict(bins=50, histtype='step', log=True)\n",
    "ax0.hist(weights[y_true1==False], lw=2, label='GNN Background', **binning)\n",
    "ax0.hist(weights[y_true1], lw=2, label='GNN Signal', **binning)\n",
    "ax0.set_xlabel('Model output', fontsize=14)\n",
    "#ax0.set_title('Accuracy = %.4f' % accuracy, fontsize=14)\n",
    "ax0.tick_params(width=2, grid_alpha=0.5, labelsize=12)\n",
    "ax0.legend(loc=0, fontsize=14)\n",
    "\n",
    "# Plot the ROC curve\n",
    "auc1 = sklearn.metrics.auc(fpr1, tpr1)\n",
    "ax1.plot(fpr1, tpr1, lw=2)\n",
    "ax1.plot([0, 1], [0, 1], '--', lw=2)\n",
    "ax1.set_xlabel('False positive rate', fontsize=14)\n",
    "ax1.set_ylabel('True positive rate', fontsize=14)\n",
    "ax1.set_title('AUC GNN = %.4f' % (auc1), fontsize=14)\n",
    "ax1.tick_params(width=2, grid_alpha=0.5, labelsize=12)\n",
    "\n",
    "p1, r1, t1 = sklearn.metrics.precision_recall_curve(y_true1, weights)\n",
    "ax2.plot(t1, p1[:-1], label='GNN purity', lw=2)\n",
    "ax2.plot(t1, r1[:-1], label='GNN efficiency', lw=2)\n",
    "ax2.set_xlabel('Cut on model score', fontsize=14)\n",
    "#ax2.set_title('Purity (Precision) = %.4f' % precision, fontsize=14) \n",
    "ax2.tick_params(width=2, grid_alpha=0.5, labelsize=12)\n",
    "ax2.legend(fontsize=14)\n",
    "\n",
    "ax3.plot(p1, r1, label='GNN', lw=2)\n",
    "ax3.set_xlabel('Purity', fontsize=14)\n",
    "ax3.set_ylabel('Efficiency', fontsize=14)\n",
    "#ax3.set_title('Efficiency (Recall) = %.4f' % recall, fontsize=14)\n",
    "ax3.tick_params(width=2, grid_alpha=0.5, labelsize=12)\n",
    "\n",
    "plt.show()"
   ]
  },
  {
   "cell_type": "code",
   "execution_count": 19,
   "metadata": {},
   "outputs": [
    {
     "data": {
      "text/plain": [
       "array([[0.97993124],\n",
       "       [0.98808742],\n",
       "       [0.94510657],\n",
       "       ...,\n",
       "       [0.14401539],\n",
       "       [0.15197951],\n",
       "       [0.46711197]])"
      ]
     },
     "execution_count": 19,
     "metadata": {},
     "output_type": "execute_result"
    }
   ],
   "source": [
    "weights"
   ]
  },
  {
   "cell_type": "code",
   "execution_count": null,
   "metadata": {},
   "outputs": [],
   "source": []
  }
 ],
 "metadata": {
  "colab": {
   "collapsed_sections": [
    "ZTR43cOdza2z",
    "Tt6zotHjznon",
    "SyKvx_3XA3bj",
    "--oDWqD49xBf",
    "JSpIYsl635gY"
   ],
   "provenance": []
  },
  "kernelspec": {
   "display_name": "Python 3 (ipykernel)",
   "language": "python",
   "name": "python3"
  },
  "language_info": {
   "codemirror_mode": {
    "name": "ipython",
    "version": 3
   },
   "file_extension": ".py",
   "mimetype": "text/x-python",
   "name": "python",
   "nbconvert_exporter": "python",
   "pygments_lexer": "ipython3",
   "version": "3.9.12"
  },
  "vscode": {
   "interpreter": {
    "hash": "bbf4f76e219583883e8ae7ee521157ca35bbe5b3f94f071c5a94dd88b5bedd86"
   }
  }
 },
 "nbformat": 4,
 "nbformat_minor": 1
}
